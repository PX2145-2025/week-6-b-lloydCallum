{
  "cells": [
    {
      "cell_type": "markdown",
      "metadata": {
        "id": "PKynR2g2a9u3"
      },
      "source": [
        "# Feedback from previous weeks and other and hints\n",
        "\n",
        "1. Be careful about your environment remembering variables. Make sure your code works in a new _clean_ environment. In Colab: `Runtime`->`restart Runtime`, in Anaconda's Jupyter: `Kernel`->`Restart`.\n",
        "2. Keep the file names when saving to GitHub. It's always possible to go back to a previous version, you are not losing anything.\n",
        "3. Run all the cells before saving to GitHub so the output is saved.\n",
        "4. Graphs without labels (or units when appropriate) are not worth any point.\n",
        "5. Do put in sufficient explanatory comments in your code.\n",
        "\n",
        "For this week you can use these imports at the start of your programs:"
      ]
    },
    {
      "cell_type": "code",
      "execution_count": 1,
      "metadata": {
        "id": "mPfiXKiZa9u4"
      },
      "outputs": [],
      "source": [
        "import numpy as np\n",
        "from numpy.random import random, normal, seed\n",
        "import matplotlib.pyplot as plt"
      ]
    },
    {
      "cell_type": "markdown",
      "metadata": {
        "id": "JpLBudfDa9u4"
      },
      "source": [
        "**DO NOT** ```import *```. As your programs get more complex you will generally need to import a greater range of modules, and it's important to keep them separate.\n",
        "\n",
        "# Introduction\n",
        "Most physicists are unlikely to go gambling at Monte Carlo - even if they were paid enough. Our knowledge of statistics is sufficient warning. But that doesn’t stop physicists using the _Monte Carlo method_ extensively for maths and physics problems.\n",
        "\n",
        "As the name suggests, the Monte Carlo (MC) method is based on using randomness. At first sight, this seems counter intuitive - surely random numbers can only lead to more randomness? As a very simple illustration of how to use random numbers in a calculation, consider the following problem.\n",
        "\n",
        "Suppose you have a circular pond of of unit radius, placed exactly in a square area of grass.\n",
        "\n",
        "Imagine throwing $N$ stones randomly into the square area. What number $n$ would land in the pond? Clearly we know the theoretical answer in this case - it just depends on the ratio area of the pond and square, so $n = N\\pi/4$. But suppose you didn’t already know a value for $\\pi$. Then by finding the ratio $4n/N$ you will have an approximation to $\\pi$ which depends only on using random numbers (and, as we’ll see shortly, Pythagoras’ theorem).\n",
        "\n",
        "To implement this idea in python you can make use of the following code snippet:"
      ]
    },
    {
      "cell_type": "code",
      "execution_count": null,
      "metadata": {
        "id": "jHCPaRuwa9u5",
        "outputId": "f8021931-ca90-4862-dda8-6d4b51426836"
      },
      "outputs": [
        {
          "name": "stdout",
          "output_type": "stream",
          "text": [
            "3.1413944\n"
          ]
        }
      ],
      "source": [
        "N=int(1e7)\n",
        "n=0\n",
        "for i in range (N):\n",
        "    x = 2*random()-1\n",
        "    y = 2*random()-1\n",
        "    r = np.sqrt(x*x+y*y)\n",
        "    if r <= 1.0:\n",
        "        n+=1 # adds 1 to n\n",
        "print(4*n/N)"
      ]
    },
    {
      "cell_type": "markdown",
      "metadata": {
        "id": "ZJmqi6XVa9u5"
      },
      "source": [
        "The function random returns a random real number uniformly distributed in the range $[0,1)$, so $x$ and $y$ lie in the range $[-1,1)$ here. Investigate what value of $\\pi$ you get, and how it depends on the number $N$ that you pick. (You could repeat for different values of $N$ and plot a graph of $\\pi$ versus $N$.) Note that you don’t really need to take the square root in this case as we are dealing with a unit circle. (We could equally just take a circular quadrant instead of a whole circle if we use random number in the interval 0 to 1)\n",
        "\n",
        "The example above can take some time to run. But the code below, which does the same operations, is much faster:"
      ]
    },
    {
      "cell_type": "code",
      "execution_count": null,
      "metadata": {
        "id": "n7RSlcXTa9u5",
        "outputId": "824d2f58-9252-44bf-d3d4-45f947c00d42"
      },
      "outputs": [
        {
          "name": "stdout",
          "output_type": "stream",
          "text": [
            "3.14203\n"
          ]
        }
      ],
      "source": [
        "x,y=2*np.random.rand(2,N)-1\n",
        "r=np.sqrt(x*x+y*y)\n",
        "n=np.sum(r <= 1.0)\n",
        "print(4*n/N)"
      ]
    },
    {
      "cell_type": "markdown",
      "metadata": {
        "id": "EABZf98_a9u5"
      },
      "source": [
        "For the most part the increased speed is due to using _vector instructions_ built-in the `numpy` library. Those cannot be used by a `for` loop.\n",
        "\n",
        "## Measuring execution speed\n",
        "\n",
        "To measure the speed of a piece of code, if you are uring IPython/Jupyter (as Colab does), the IPython [magic](https://ipython.readthedocs.io/en/stable/interactive/magics.html) command `%%time` is very useful:"
      ]
    },
    {
      "cell_type": "code",
      "execution_count": null,
      "metadata": {
        "id": "pjCjuzYfa9u5",
        "outputId": "da6e5b19-0d51-4387-872c-820d0eda3080"
      },
      "outputs": [
        {
          "name": "stdout",
          "output_type": "stream",
          "text": [
            "3.141126\n",
            "CPU times: user 1.2 s, sys: 229 ms, total: 1.43 s\n",
            "Wall time: 496 ms\n"
          ]
        }
      ],
      "source": [
        "%%time\n",
        "\n",
        "x,y=2*np.random.rand(2,N)-1\n",
        "r=np.sqrt(x*x+y*y)\n",
        "n=np.sum(r <= 1.0)\n",
        "print(4*n/N)"
      ]
    },
    {
      "cell_type": "markdown",
      "metadata": {
        "id": "HBniw_Tpa9u5"
      },
      "source": [
        "Note that the similar-sounding `%%timeit` command will run the cell several time and calculate the average. In the absence of IPython, you can also use the `datetime` module:"
      ]
    },
    {
      "cell_type": "code",
      "execution_count": null,
      "metadata": {
        "id": "I7RXfomia9u6",
        "outputId": "b0a081cc-547d-485d-d920-7808050d3408"
      },
      "outputs": [
        {
          "name": "stdout",
          "output_type": "stream",
          "text": [
            "3.1410168\n",
            "0:00:00.445764\n"
          ]
        }
      ],
      "source": [
        "from datetime import datetime\n",
        "startTime = datetime.now()\n",
        "x,y=2*np.random.rand(2,N)-1\n",
        "r=np.sqrt(x*x+y*y)\n",
        "n=np.sum(r <= 1.0)\n",
        "print(4*n/N)\n",
        "print(datetime.now() - startTime)"
      ]
    },
    {
      "cell_type": "markdown",
      "metadata": {
        "id": "thGguUYfa9u6"
      },
      "source": [
        "## How random?\n",
        "It is interesting to plot out some generated random numbers to get a feel for how random they look. You already saw in week 3 of the PX1224 module how to plot out histograms. So we can do something like this..."
      ]
    },
    {
      "cell_type": "code",
      "execution_count": null,
      "metadata": {
        "id": "R3NFV6ila9u6",
        "outputId": "30fc382d-0134-47ce-c92e-8f47b210e428"
      },
      "outputs": [
        {
          "data": {
            "image/png": "[encoded data removed]",
            "text/plain": [
              "<Figure size 432x288 with 1 Axes>"
            ]
          },
          "metadata": {},
          "output_type": "display_data"
        }
      ],
      "source": [
        "# make the uniform random data ...\n",
        "N = int(1e5)\n",
        "x = np.zeros(N)\n",
        "for i in range(N): # very slow to loop like this\n",
        "    x[i] = random()\n",
        "# the histogram of the data\n",
        "plt.hist(x, bins='auto',density=True);"
      ]
    },
    {
      "cell_type": "markdown",
      "metadata": {
        "id": "6oR1a4-da9u6"
      },
      "source": [
        "And a neater way to create an array of N random numbers is like this ..."
      ]
    },
    {
      "cell_type": "code",
      "execution_count": null,
      "metadata": {
        "id": "Bk0xk4YJa9u6",
        "outputId": "976eea5c-6e85-401d-fb6d-c279c15ab92d"
      },
      "outputs": [
        {
          "data": {
            "image/png": "[encoded data removed]",
            "text/plain": [
              "<Figure size 432x288 with 1 Axes>"
            ]
          },
          "metadata": {},
          "output_type": "display_data"
        }
      ],
      "source": [
        "# make the uniform random data ...\n",
        "N = int(1e5)\n",
        "x = random(N)\n",
        "plt.hist(x, bins='auto',density=True);"
      ]
    },
    {
      "cell_type": "markdown",
      "metadata": {
        "id": "l70eDwpla9u6"
      },
      "source": [
        "You’ll see that, to the eye, the data look very uniformly distributed. How are random numbers generated in the computer? In fact, they are not entirely random, but are generated by an algorithm that produces a sequence of numbers that is _pseudo-random_. A great deal of research goes into generating pseudo-random numbers that pass known tests for randomness (rather more sophisticated than just looking at histograms). Take a look at http://www.random.org/ if you want truly random numbers.\n",
        "One advantage of pseudo-random number generation is that you can always generate the same sequence of numbers again for testing purposes! This is done by using a starting seed. To do this the syntax is:\n",
        "```python\n",
        "seed(1234)\n",
        "```\n",
        "where you can use any convenient integer starting seed.\n",
        "\n",
        "## Other probability distributions\n",
        "\n",
        "The [numpy and scipy documentation](https://numpy.org/doc/stable/reference/random/generator.html#distributions) website gives a good description of other random number distributions, not just the uniform one we’ve looked at so far. For example `y = normal(loc=0.0, scale=1.0, size=N)` will return an array of $N$ numbers with a Gaussian or normal probability distribution, with mean $\\mu = 0$ and standard deviation $\\sigma = 1$.\n",
        "\n",
        "# Applications\n",
        "\n",
        "## Integration in 1-D\n",
        "\n",
        "One application of the MC method is to the evaluation of integrals. Suppose we select $N$ random numbers $x_0,x_1,x_2,...,x_{N-1}$ in the interval $[0,1)$, then\n",
        "$$\n",
        "\\int_0^1 f(x)\\,dx\\approx\\frac{1}{N}\\sum_{i=0}^{N-1}f(x_i)\n",
        "$$\n",
        "This is not the best method in 1-D, since the error in the approximation is of order $1/\\sqrt{N}$, and many more points are required for a good estimate of the integral than, for example, the Romberg method. But it turns out to be increasingly beneficial in higher dimensions.\n",
        "\n",
        "Let’s look at a trivial example. We want to integrate $f(x) = x^2$ between 0 and 1. The relevant code snippet is something like this:"
      ]
    },
    {
      "cell_type": "code",
      "execution_count": null,
      "metadata": {
        "id": "HJmTFN0ja9u6",
        "outputId": "cf532c81-1dfa-4781-e69d-a873d01dd546"
      },
      "outputs": [
        {
          "name": "stdout",
          "output_type": "stream",
          "text": [
            "Approximate result for 1000 points: 0.3361348734700943\n"
          ]
        }
      ],
      "source": [
        "def f(x):\n",
        "    return x**2\n",
        "\n",
        "N = int(1e3)\n",
        "s = 0 # s is the sum\n",
        "for i in range (N):\n",
        "    x = random() # get a random number in [0,1) ...\n",
        "    s += f(x)\n",
        "integral = s/N\n",
        "print('Approximate result for {} points: {}'.format(N,integral))"
      ]
    },
    {
      "cell_type": "markdown",
      "metadata": {
        "id": "ymDJ5-2Ea9u6"
      },
      "source": [
        "It’s fairly clear why this works, since $s/N$ will be the average value of the function. Multiplying by the interval length, $1$ in this example, thus approximates the integral. If we want the integral between limits (a,b), we would have to multiply the average of the function over this interval by (b-a).\n",
        "$$\n",
        "\\int_a^b f(x)\\,dx\\approx(b-a)\\frac{1}{N}\\sum_{i=0}^{N-1}f(x_i)\n",
        "$$\n",
        "Note: **You need to improve the code** by avoiding the loop (i.e. using the vectorised form of\n",
        "defining random numbers).\n",
        "\n",
        "## Integration in 2-D\n",
        "\n",
        "**Simplest case**: It’s easy to extend this idea to 2-D (and higher dimensions). If we have\n",
        "a 2-D rectangular region $a \\leq x \\leq b$, $c \\leq y \\leq d$ then\n",
        "$$\n",
        "\\int_a^b\\int_c^d f(x,y)\\,dxdy\\approx\\frac{(b-a)(c-d)}{N}\\sum_{i=0}^{N-1}f(x_i,y_i)\n",
        "$$\n",
        "If the region - call it $\\Omega$ - is not rectangular, we simply find the average over the region, then multiply by the area $A_\\Omega$ of the region.\n",
        "\n",
        "**General case**: Sometimes it’s hard to know the area of the region (because it is not a\n",
        "simple shape or is defined by equations) but we can easily extend this idea as follows:\n",
        "\n",
        "Simply define a rectangular region R (of _known_ area $A_R$) which contains $\\Omega$ (This is what we did in the introduction):\n",
        "\n",
        "![regions](https://raw.githubusercontent.com/PX2134/images/master/week6/regions.png)\n",
        "\n",
        "Select $N$ points randomly in $R$. If $n$ of these points turn out to be within $\\Omega$, then the area of region $\\Omega$ is approximately $(n/N)A_R$. Our integral is thus\n",
        "$$\n",
        "\\int\\int_\\Omega f(x,y)\\,dxdy\\approx\\left(\\frac{n}{N}A_R\\right)\\frac{1}{n}\\sum_{i\\in\\Omega}f(x_i,y_i)\n",
        "$$\n",
        "where the notation $i\\in\\Omega$ means points $i$ which are within the region $\\Omega$. If we integrate the function $f(x, y) = 1$ then this would let us calculate the unknown area of the region $\\Omega$. If $f(x, y)$ were the _density_ of the region, then the integral would give us its _mass_.\n",
        "\n",
        "Another way of deriving the equation above is to cancel out the $n$ and note that $A_R/N$ is just the average area that each point occupies in the plane. The double integral is thus (approximately) the average area per point multiplied by the sum of $f$ values within $\\Omega$.\n",
        "\n",
        "## Integration in 3-D\n",
        "You can guess the rest! Again note here that if we integrate the function $f(x, y, z) = 1$ then it would give us the volume of a region. If $f(x, y, z)$ were the _density_ of the region, then the integral would give us its _mass_. Can you see how _moment of inertia_ could be calculated?"
      ]
    },
    {
      "cell_type": "markdown",
      "metadata": {
        "id": "SnZXv3fQa9u7"
      },
      "source": [
        "# Exercises\n",
        "This must be marked before you leave the lab. Mark weighting is in brackets. **Save your work to GitHub after having run all cells with `Runtime` -> `Restart and run all`. And do not change the notebook's filename.** Do add comments to your code, you'll lose points if your code is hard to understand. Graphs without labels (or units when appropriate) are not worth any point.\n",
        "\n",
        "## Exercise 0\n",
        "\n",
        "See LearningCentral for a video of integrating a function using the Monte Carlo method.\n",
        "\n",
        "## Exercise 1\n",
        "\n",
        "[4] Plot histograms using the uniform and normal distribution random number generators. Investigate how the histograms depend on the number of points\n",
        "taken."
      ]
    },
    {
      "cell_type": "code",
      "execution_count": 67,
      "metadata": {
        "id": "aH8R93Raa9u7"
      },
      "outputs": [],
      "source": [
        "N = 1000\n",
        "\n",
        "x_uniform = np.random.uniform(N)\n",
        "x_normal = np.random.normal(loc=0, scale=1,size=N )"
      ]
    },
    {
      "cell_type": "code",
      "source": [
        "print(x_normal[:5])"
      ],
      "metadata": {
        "id": "fSWhgKEKy17J",
        "outputId": "965a3807-5540-4e83-aa0d-efeb8b0ed5b1",
        "colab": {
          "base_uri": "https://localhost:8080/"
        }
      },
      "execution_count": 65,
      "outputs": [
        {
          "output_type": "stream",
          "name": "stdout",
          "text": [
            "[-1.69991627  0.89244206  0.06395023 -0.97930106  1.09579026]\n"
          ]
        }
      ]
    },
    {
      "cell_type": "code",
      "source": [
        "plt.hist(x_uniform)"
      ],
      "metadata": {
        "id": "JUuR8VmYyljS",
        "outputId": "7c988a2f-ee76-4d32-84c6-2ee48662d469",
        "colab": {
          "base_uri": "https://localhost:8080/",
          "height": 517
        }
      },
      "execution_count": 69,
      "outputs": [
        {
          "output_type": "execute_result",
          "data": {
            "text/plain": [
              "(array([0., 0., 0., 0., 0., 1., 0., 0., 0., 0.]),\n",
              " array([284.9385334, 285.0385334, 285.1385334, 285.2385334, 285.3385334,\n",
              "        285.4385334, 285.5385334, 285.6385334, 285.7385334, 285.8385334,\n",
              "        285.9385334]),\n",
              " <BarContainer object of 10 artists>)"
            ]
          },
          "metadata": {},
          "execution_count": 69
        },
        {
          "output_type": "display_data",
          "data": {
            "text/plain": [
              "<Figure size 640x480 with 1 Axes>"
            ],
            "image/png": "[encoded data removed]"
          },
          "metadata": {}
        }
      ]
    },
    {
      "cell_type": "code",
      "source": [
        "plt.hist(x_normal)"
      ],
      "metadata": {
        "id": "DLHU4BJsytBF",
        "outputId": "e9797ab1-d835-472e-d4c5-9f1ad3c3402e",
        "colab": {
          "base_uri": "https://localhost:8080/",
          "height": 517
        }
      },
      "execution_count": 58,
      "outputs": [
        {
          "output_type": "execute_result",
          "data": {
            "text/plain": [
              "(array([  5.,  33.,  63., 167., 234., 227., 158.,  77.,  29.,   7.]),\n",
              " array([-3.11194824, -2.49671508, -1.88148191, -1.26624874, -0.65101558,\n",
              "        -0.03578241,  0.57945076,  1.19468393,  1.80991709,  2.42515026,\n",
              "         3.04038343]),\n",
              " <BarContainer object of 10 artists>)"
            ]
          },
          "metadata": {},
          "execution_count": 58
        },
        {
          "output_type": "display_data",
          "data": {
            "text/plain": [
              "<Figure size 640x480 with 1 Axes>"
            ],
            "image/png": "[encoded data removed]"
          },
          "metadata": {}
        }
      ]
    },
    {
      "cell_type": "markdown",
      "metadata": {
        "id": "RRvk6olca9u7"
      },
      "source": [
        "## Exercise 2\n",
        "\n",
        "[7] Find $\\pi$ using the method described in the introduction and plot a unit square to illustrate points which lie within the unit circle. It’s much faster to use the second method of making the random numbers, `x=random(N)`. You should plot data points within the circle in blue and those outside in green. Adapt code similar to that below to do the plotting.\n",
        "```python\n",
        "inpond = np.sqrt(x**2+y**2) <= 1.0 # True if in the pond\n",
        "plt.plot(x[inpond==True], y[inpond==True],'b.')\n",
        "```\n",
        " Compare the speed between using a `for` loop and using the vectorised `x=random(N)`."
      ]
    },
    {
      "cell_type": "code",
      "execution_count": null,
      "metadata": {
        "id": "x55-rCDPa9u7"
      },
      "outputs": [],
      "source": []
    },
    {
      "cell_type": "markdown",
      "metadata": {
        "id": "CHR-51iFa9u7"
      },
      "source": [
        "## Exercise 3\n",
        "\n",
        "[9] Integrate $f(x) = sin(x)tan(x)$ between $0$ and $\\pi/4$ using the MC method, and compare with the exact answer (obtained for instance via [WolframAlpha](https://www.wolframalpha.com/)). Investigate what happens with increasing the number of points $N$ you use by plotting the MC answer versus number of points, choosing appropriate values for $N$ and choice of axes.\n",
        "\n",
        " To get full marks you must avoid using a loop in the integration (but you can loop over different values of $N$)."
      ]
    },
    {
      "cell_type": "code",
      "execution_count": null,
      "metadata": {
        "id": "kg8fLYZaa9u7"
      },
      "outputs": [],
      "source": []
    }
  ],
  "metadata": {
    "kernelspec": {
      "display_name": "Python 3",
      "language": "python",
      "name": "python3"
    },
    "language_info": {
      "codemirror_mode": {
        "name": "ipython",
        "version": 3
      },
      "file_extension": ".py",
      "mimetype": "text/x-python",
      "name": "python",
      "nbconvert_exporter": "python",
      "pygments_lexer": "ipython3",
      "version": "3.7.10"
    },
    "colab": {
      "provenance": []
    }
  },
  "nbformat": 4,
  "nbformat_minor": 0
}